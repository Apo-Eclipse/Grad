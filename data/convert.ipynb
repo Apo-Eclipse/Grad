{
 "cells": [
  {
   "cell_type": "code",
   "execution_count": 1,
   "id": "e65c1c7c",
   "metadata": {},
   "outputs": [],
   "source": [
    "import pandas as pd\n",
    "import sqlite3"
   ]
  },
  {
   "cell_type": "code",
   "execution_count": 2,
   "id": "34e24689",
   "metadata": {},
   "outputs": [],
   "source": [
    "conn = sqlite3.connect(\"database.db\")"
   ]
  },
  {
   "cell_type": "code",
   "execution_count": 3,
   "id": "c9a553ec",
   "metadata": {},
   "outputs": [],
   "source": [
    "transactions_table_df = pd.read_csv(\"D:/projects/Multi-Agent System/data/transactions_table.csv\")\n",
    "user_table_df = pd.read_csv(\"D:/projects/Multi-Agent System/data/user_table.csv\")"
   ]
  },
  {
   "cell_type": "code",
   "execution_count": 4,
   "id": "3ff96d99",
   "metadata": {},
   "outputs": [
    {
     "data": {
      "text/plain": [
       "1"
      ]
     },
     "execution_count": 4,
     "metadata": {},
     "output_type": "execute_result"
    }
   ],
   "source": [
    "transactions_table_df.to_sql(\"transactions_table\", conn, if_exists=\"replace\", index=False)\n",
    "user_table_df.to_sql(\"user_table\", conn, if_exists=\"replace\", index=False)"
   ]
  },
  {
   "cell_type": "code",
   "execution_count": 5,
   "id": "fdfdc6d7",
   "metadata": {},
   "outputs": [],
   "source": [
    "conn.close()"
   ]
  }
 ],
 "metadata": {
  "kernelspec": {
   "display_name": "env",
   "language": "python",
   "name": "python3"
  },
  "language_info": {
   "codemirror_mode": {
    "name": "ipython",
    "version": 3
   },
   "file_extension": ".py",
   "mimetype": "text/x-python",
   "name": "python",
   "nbconvert_exporter": "python",
   "pygments_lexer": "ipython3",
   "version": "3.11.0"
  }
 },
 "nbformat": 4,
 "nbformat_minor": 5
}
